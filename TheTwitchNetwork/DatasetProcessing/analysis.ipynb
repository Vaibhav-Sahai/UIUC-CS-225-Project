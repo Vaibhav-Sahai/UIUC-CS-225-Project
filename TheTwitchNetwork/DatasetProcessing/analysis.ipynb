{
 "cells": [
  {
   "cell_type": "markdown",
   "metadata": {},
   "source": [
    "# Eliminating Invalid Inputs/Outliers + Making Dataset"
   ]
  },
  {
   "cell_type": "code",
   "execution_count": null,
   "metadata": {},
   "outputs": [],
   "source": [
    "# Dependencies\n",
    "!pip3 install pandas\n",
    "!pip3 install numpy\n",
    "!pip3 install matplotlib"
   ]
  },
  {
   "cell_type": "code",
   "execution_count": 2,
   "metadata": {},
   "outputs": [],
   "source": [
    "import pandas as pd\n",
    "import numpy as np\n",
    "import matplotlib.pyplot as plt\n",
    "import json as json\n",
    "import typing\n",
    "import tqdm"
   ]
  },
  {
   "cell_type": "code",
   "execution_count": 3,
   "metadata": {},
   "outputs": [],
   "source": [
    "import requests\n",
    "from dotenv import load_dotenv\n",
    "import os\n",
    "\n",
    "# load environment variables and functions\n",
    "load_dotenv()\n",
    "OAUTH = os.getenv('OAUTH')\n",
    "CLIENT = os.getenv('CLIENT')\n",
    "\n",
    "def get_game_from_id(id: str) -> list[str]:\n",
    "    \"\"\"\n",
    "    Get the game name + game id + broadcaster name from the streamer id\n",
    "    return list of game_id and game_name\n",
    "    \"\"\"\n",
    "    url = \"https://api.twitch.tv/helix/channels?broadcaster_id=\" + id\n",
    "    headers = {\n",
    "        'Authorization': 'Bearer ' + OAUTH,\n",
    "        'Client-Id': CLIENT\n",
    "    }\n",
    "    response = requests.get(url, headers=headers)\n",
    "    game_id = response.json()['data'][0]['game_id']\n",
    "    game_name = response.json()['data'][0]['game_name']\n",
    "    streamer_name = response.json()['data'][0]['broadcaster_name']\n",
    "    return [game_id, streamer_name, game_name]"
   ]
  },
  {
   "cell_type": "code",
   "execution_count": null,
   "metadata": {},
   "outputs": [],
   "source": [
    "# Let us make a list of all streamer ids by using target.csv\n",
    "target = pd.read_csv('musae_ENGB_target.csv')\n",
    "streamer_ids = target['id'].tolist()\n",
    "\n",
    "# create empty df that connects streamer ID to game ID and game Name\n",
    "df = pd.DataFrame(columns=['streamer_id', 'streamer_name', 'game_id', 'game_name'])\n",
    "\n",
    "# loop through all streamer ids and get game id and game name, using tqdm to show progress\n",
    "for streamer_id in tqdm.tqdm(streamer_ids):\n",
    "    try:\n",
    "        streamer_id = str(streamer_id)\n",
    "        game_id, streamer_name ,game_name = get_game_from_id(streamer_id)\n",
    "        df = df.append({'streamer_id': streamer_id, 'streamer_name': streamer_name, 'game_id': game_id, 'game_name': game_name}, ignore_index=True)\n",
    "    except:\n",
    "        pass\n",
    "\n",
    "# save df to csv\n",
    "df.to_csv('streamer_features.csv', index=False)"
   ]
  },
  {
   "cell_type": "code",
   "execution_count": null,
   "metadata": {},
   "outputs": [],
   "source": []
  }
 ],
 "metadata": {
  "kernelspec": {
   "display_name": "Python 3.9.15 64-bit",
   "language": "python",
   "name": "python3"
  },
  "language_info": {
   "codemirror_mode": {
    "name": "ipython",
    "version": 3
   },
   "file_extension": ".py",
   "mimetype": "text/x-python",
   "name": "python",
   "nbconvert_exporter": "python",
   "pygments_lexer": "ipython3",
   "version": "3.9.15"
  },
  "orig_nbformat": 4,
  "vscode": {
   "interpreter": {
    "hash": "a665b5d41d17b532ea9890333293a1b812fa0b73c9c25c950b3cedf1bebd0438"
   }
  }
 },
 "nbformat": 4,
 "nbformat_minor": 2
}
