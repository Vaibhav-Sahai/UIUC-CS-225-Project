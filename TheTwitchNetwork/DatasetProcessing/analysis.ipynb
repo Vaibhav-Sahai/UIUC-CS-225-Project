{
 "cells": [
  {
   "cell_type": "markdown",
   "metadata": {},
   "source": [
    "# Eliminating Invalid Inputs/Outliers + Making Dataset"
   ]
  },
  {
   "cell_type": "code",
   "execution_count": null,
   "metadata": {},
   "outputs": [],
   "source": [
    "# Dependencies\n",
    "!pip3 install pandas\n",
    "!pip3 install numpy\n",
    "!pip3 install matplotlib"
   ]
  },
  {
   "cell_type": "code",
   "execution_count": 5,
   "metadata": {},
   "outputs": [],
   "source": [
    "import pandas as pd\n",
    "import numpy as np\n",
    "import matplotlib.pyplot as plt\n",
    "import json as json\n",
    "import typing\n",
    "import tqdm"
   ]
  },
  {
   "cell_type": "code",
   "execution_count": 6,
   "metadata": {},
   "outputs": [],
   "source": [
    "import requests\n",
    "from dotenv import load_dotenv\n",
    "import os\n",
    "\n",
    "# load environment variables and functions\n",
    "load_dotenv()\n",
    "OAUTH = os.getenv('OAUTH')\n",
    "CLIENT = os.getenv('CLIENT')\n",
    "\n",
    "def get_game_from_id(id: str) -> list[str]:\n",
    "    \"\"\"\n",
    "    Get the game name + game id + broadcaster name from the streamer id\n",
    "    return list of game_id and game_name\n",
    "    \"\"\"\n",
    "    url = \"https://api.twitch.tv/helix/channels?broadcaster_id=\" + id\n",
    "    headers = {\n",
    "        'Authorization': 'Bearer ' + OAUTH,\n",
    "        'Client-Id': CLIENT\n",
    "    }\n",
    "    response = requests.get(url, headers=headers)\n",
    "    game_id = response.json()['data'][0]['game_id']\n",
    "    game_name = response.json()['data'][0]['game_name']\n",
    "    streamer_name = response.json()['data'][0]['broadcaster_name']\n",
    "    return [game_id, streamer_name, game_name]"
   ]
  },
  {
   "cell_type": "code",
   "execution_count": null,
   "metadata": {},
   "outputs": [],
   "source": [
    "# Let us make a list of all streamer ids by using target.csv\n",
    "target = pd.read_csv('musae_ENGB_target.csv')\n",
    "streamer_ids = target['id'].tolist()\n",
    "\n",
    "# create empty df that connects streamer ID to game ID and game Name\n",
    "df = pd.DataFrame(columns=['streamer_id', 'streamer_name', 'game_id', 'game_name'])\n",
    "\n",
    "# loop through all streamer ids and get game id and game name, using tqdm to show progress\n",
    "for streamer_id in tqdm.tqdm(streamer_ids):\n",
    "    try:\n",
    "        streamer_id = str(streamer_id)\n",
    "        game_id, streamer_name ,game_name = get_game_from_id(streamer_id)\n",
    "        df = df.append({'streamer_id': streamer_id, 'streamer_name': streamer_name, 'game_id': game_id, 'game_name': game_name}, ignore_index=True)\n",
    "    except:\n",
    "        pass\n",
    "\n",
    "# save df to csv\n",
    "df.to_csv('streamer_features.csv', index=False)"
   ]
  },
  {
   "cell_type": "code",
   "execution_count": 7,
   "metadata": {},
   "outputs": [],
   "source": [
    "# Now, let us clear this dataset for streamers where we couldn't find the game id\n",
    "df = pd.read_csv('streamer_features.csv')\n",
    "# drop if game_id is empty\n",
    "df = df.dropna(subset=['game_id'])\n",
    "# save df to csv\n",
    "df.to_csv('streamer_features.csv', index=False)"
   ]
  },
  {
   "cell_type": "code",
   "execution_count": 10,
   "metadata": {},
   "outputs": [
    {
     "data": {
      "text/plain": [
       "streamer_id        0\n",
       "streamer_name      0\n",
       "game_id            0\n",
       "game_name        128\n",
       "dtype: int64"
      ]
     },
     "execution_count": 10,
     "metadata": {},
     "output_type": "execute_result"
    }
   ],
   "source": [
    "# find number of nulls and eliminate them\n",
    "df.isnull().sum()"
   ]
  },
  {
   "cell_type": "code",
   "execution_count": 12,
   "metadata": {},
   "outputs": [],
   "source": [
    "# drop columns where game_name is empty\n",
    "df = df.dropna(subset=['game_name'])"
   ]
  },
  {
   "cell_type": "code",
   "execution_count": 15,
   "metadata": {},
   "outputs": [],
   "source": [
    "df.isnull().sum()\n",
    "df.to_csv('streamer_features.csv', index=False)"
   ]
  },
  {
   "cell_type": "code",
   "execution_count": 25,
   "metadata": {},
   "outputs": [],
   "source": [
    "# Now that we have sanitized the data, let us take out the edges that are not in the dataset\n",
    "\n",
    "# if id is not streamer_features.csv but in musae_ENGB_target.csv, drop it from musae_ENGB_target.csv\n",
    "target = pd.read_csv('musae_ENGB_target.csv')\n",
    "target = target[target['id'].isin(df['streamer_id'])]\n",
    "target.to_csv('musae_ENGB_target.csv', index=False)\n",
    "\n",
    "# repeat the same for target and edges, but this time compare with our decoy id (new_id)\n",
    "edges = pd.read_csv('musae_ENGB_edges.csv')\n",
    "target = pd.read_csv('musae_ENGB_target.csv')\n",
    "edges = edges[edges['from'].isin(target['new_id'])]\n",
    "edges = edges[edges['to'].isin(target['new_id'])]\n",
    "\n",
    "# if first row is not blank but second row is blank, drop it and vice versa\n",
    "edges = edges.dropna(subset=['from'])\n",
    "edges = edges.dropna(subset=['to'])\n",
    "\n",
    "edges.to_csv('musae_ENGB_edges.csv', index=False)"
   ]
  },
  {
   "cell_type": "code",
   "execution_count": null,
   "metadata": {},
   "outputs": [],
   "source": []
  }
 ],
 "metadata": {
  "kernelspec": {
   "display_name": "Python 3.9.15 64-bit",
   "language": "python",
   "name": "python3"
  },
  "language_info": {
   "codemirror_mode": {
    "name": "ipython",
    "version": 3
   },
   "file_extension": ".py",
   "mimetype": "text/x-python",
   "name": "python",
   "nbconvert_exporter": "python",
   "pygments_lexer": "ipython3",
   "version": "3.9.15"
  },
  "orig_nbformat": 4,
  "vscode": {
   "interpreter": {
    "hash": "a665b5d41d17b532ea9890333293a1b812fa0b73c9c25c950b3cedf1bebd0438"
   }
  }
 },
 "nbformat": 4,
 "nbformat_minor": 2
}
